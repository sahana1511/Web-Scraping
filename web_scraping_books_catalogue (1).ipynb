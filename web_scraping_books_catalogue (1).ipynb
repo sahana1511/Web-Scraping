{
 "cells": [
  {
   "cell_type": "code",
   "execution_count": 5,
   "id": "baef407e",
   "metadata": {},
   "outputs": [],
   "source": [
    "import requests\n",
    "\n",
    "from bs4 import BeautifulSoup\n",
    "\n",
    "import pandas as pd"
   ]
  },
  {
   "cell_type": "code",
   "execution_count": 6,
   "id": "7871b96a",
   "metadata": {},
   "outputs": [],
   "source": [
    "books = []"
   ]
  },
  {
   "cell_type": "code",
   "execution_count": 7,
   "id": "9957724a",
   "metadata": {},
   "outputs": [],
   "source": [
    "for i in range(1,5):\n",
    "    url = f\"https://books.toscrape.com/catalogue/page-{i}.html\"\n",
    "    response = requests.get(url)\n",
    "    response = response.content\n",
    "    soup = BeautifulSoup(response, 'html.parser')\n",
    "    ol = soup.find('ol')\n",
    "    articles = ol.find_all('article', class_='product_pod')\n",
    "    for article in articles:\n",
    "        image = article.find('img')\n",
    "        title = image.attrs['alt']\n",
    "        starTag = article.find('p')\n",
    "        star = starTag['class'][1]\n",
    "        price = article.find('p', class_='price_color').text\n",
    "        price = float(price[1:])\n",
    "        books.append([title, star, price])"
   ]
  },
  {
   "cell_type": "code",
   "execution_count": 9,
   "id": "bf779370",
   "metadata": {},
   "outputs": [],
   "source": [
    "df = pd.DataFrame(books, columns=['Title', 'Star Rating', 'Price'])\n",
    "df.to_csv('books1.csv')"
   ]
  },
  {
   "cell_type": "code",
   "execution_count": null,
   "id": "bab9b586",
   "metadata": {},
   "outputs": [],
   "source": []
  }
 ],
 "metadata": {
  "kernelspec": {
   "display_name": "Python 3 (ipykernel)",
   "language": "python",
   "name": "python3"
  },
  "language_info": {
   "codemirror_mode": {
    "name": "ipython",
    "version": 3
   },
   "file_extension": ".py",
   "mimetype": "text/x-python",
   "name": "python",
   "nbconvert_exporter": "python",
   "pygments_lexer": "ipython3",
   "version": "3.9.13"
  }
 },
 "nbformat": 4,
 "nbformat_minor": 5
}
